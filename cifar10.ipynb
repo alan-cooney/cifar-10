{
 "cells": [
  {
   "cell_type": "markdown",
   "metadata": {},
   "source": [
    "# CIFAR10 Dataset (10 image categories)\n",
    "\n",
    "Attempts to build a state-of-the-art model. Benchmarks can be found at https://paperswithcode.com/sota/image-classification-on-cifar-10"
   ]
  },
  {
   "cell_type": "code",
   "execution_count": 79,
   "metadata": {},
   "outputs": [],
   "source": [
    "import torch\n",
    "import torchvision\n",
    "import torchvision.transforms as transforms\n",
    "import torch.nn as nn\n",
    "import torch.nn.functional as F\n",
    "import torch.optim as optim"
   ]
  },
  {
   "cell_type": "markdown",
   "metadata": {},
   "source": [
    "## Setup\n",
    "\n",
    "### Get the data"
   ]
  },
  {
   "cell_type": "code",
   "execution_count": 54,
   "metadata": {},
   "outputs": [
    {
     "name": "stdout",
     "output_type": "stream",
     "text": [
      "Files already downloaded and verified\n",
      "Files already downloaded and verified\n"
     ]
    }
   ],
   "source": [
    "# Transform images to tensors and normalize when loaded\n",
    "transform = transforms.Compose([\n",
    "    transforms.ToTensor(),\n",
    "    transforms.Normalize((0.5,0.5,0.5), (0.5,0.5,0.5)) # mean of 0.5 for each channel, sd of 0.5 for each channel\n",
    "])\n",
    "\n",
    "# Set the batch size\n",
    "batch_size = 16\n",
    "\n",
    "# Create the train and test dataloaders\n",
    "train_set = torchvision.datasets.CIFAR10(root=\"./data\", train=True, download=True, transform=transform)\n",
    "train_loader = torch.utils.data.DataLoader(train_set, batch_size=batch_size, shuffle=True, num_workers=2)\n",
    "test_set = torchvision.datasets.CIFAR10(root='./data', train=False, download=True, transform=transform)\n",
    "test_loader = torch.utils.data.DataLoader(test_set, batch_size=batch_size, shuffle=False, num_workers=2)\n",
    "\n",
    "# Create the class labels\n",
    "classes = ('plane', 'car', 'bird', 'cat', 'deer', 'dog', 'frog', 'horse', 'ship', 'truck')"
   ]
  },
  {
   "cell_type": "code",
   "execution_count": 102,
   "metadata": {},
   "outputs": [
    {
     "name": "stderr",
     "output_type": "stream",
     "text": [
      "Clipping input data to the valid range for imshow with RGB data ([0..1] for floats or [0..255] for integers).\n"
     ]
    },
    {
     "name": "stdout",
     "output_type": "stream",
     "text": [
      "torch.Size([3, 32, 32])\n"
     ]
    },
    {
     "data": {
      "text/plain": [
       "<matplotlib.image.AxesImage at 0x7f9ef12497f0>"
      ]
     },
     "execution_count": 102,
     "metadata": {},
     "output_type": "execute_result"
    },
    {
     "data": {
      "image/png": "[encoded data removed]",
      "text/plain": [
       "<Figure size 432x288 with 1 Axes>"
      ]
     },
     "metadata": {
      "needs_background": "light"
     },
     "output_type": "display_data"
    }
   ],
   "source": [
    "example_image = next(iter(train_loader))[0][0]\n",
    "print(example_image.shape)\n",
    "np_image = example_image.numpy()\n",
    "plt.imshow(np.transpose(np_image, (1, 2, 0)))"
   ]
  },
  {
   "cell_type": "markdown",
   "metadata": {},
   "source": [
    "### Train & Test Loops\n",
    "\n",
    "Creates train & test loops that can be used with different models."
   ]
  },
  {
   "cell_type": "code",
   "execution_count": 81,
   "metadata": {},
   "outputs": [],
   "source": [
    "device = torch.device(\"cuda:0\" if torch.cuda.is_available() else \"cpu\")\n",
    "\n",
    "def train(\n",
    "    model: nn.Module, \n",
    "    loss_function, \n",
    "    learning_rate: float = 0.001, \n",
    "    epochs: int = 4) -> nn.Module:\n",
    "    \"\"\"\n",
    "    Train the model\n",
    "    \n",
    "    Parameters\n",
    "    ----------\n",
    "    model : Model\n",
    "    loss_function: Loss function (e.g. `nn.CrossEntropyLoss()`)\n",
    "    learning_rate: Learning rate\n",
    "    epochs: Number of epochs\n",
    "\n",
    "    Returns\n",
    "    -------\n",
    "    float: Accurancy\n",
    "    \"\"\"\n",
    "    start_time = time.time()\n",
    "    \n",
    "    optimizer = optim.SGD(model.parameters(), lr=learning_rate, momentum=0.9)\n",
    "    \n",
    "    # For each epoch\n",
    "    for epoch in range(epochs):\n",
    "        \n",
    "         # Set a running loss\n",
    "        running_loss = 0.\n",
    "\n",
    "        # Go through each batch\n",
    "        for data in train_loader:\n",
    "            # Each batch contains [inputs, labels]\n",
    "            inputs = data[0].to(device)\n",
    "            labels = data[1].to(device)\n",
    "\n",
    "            # Reset the model parameter gradients to 0\n",
    "            optimizer.zero_grad()\n",
    "\n",
    "            # Forward\n",
    "            outputs = model(inputs)\n",
    "            loss = criterion(outputs, labels)\n",
    "            running_loss += loss.item()\n",
    "\n",
    "            # Backward\n",
    "            loss.backward()\n",
    "            optimizer.step()\n",
    "\n",
    "        # Print statistics\n",
    "        time_taken = time.time() - start_time\n",
    "        print('Epoch %d, loss %.3f, time %.3f' % (epoch + 1, running_loss, time_taken))"
   ]
  },
  {
   "cell_type": "code",
   "execution_count": 80,
   "metadata": {},
   "outputs": [],
   "source": [
    "def test(model: nn.Module) -> float:\n",
    "    \"\"\"\n",
    "    Check the model accuracy with the test data\n",
    "\n",
    "    Returns\n",
    "    -------\n",
    "    float: Accuracy\n",
    "    \"\"\"\n",
    "    \n",
    "    # Initialise counters\n",
    "    predictions_count = 0\n",
    "    correct_count = 0\n",
    "    \n",
    "    # For each batch\n",
    "    for data in test_loader:\n",
    "        inputs = data[0].to(device)\n",
    "        labels = data[1].to(device)\n",
    "        \n",
    "        # Get the predictions\n",
    "        outputs = model(inputs)\n",
    "        predictions = outputs.argmax(1)\n",
    "        correct = predictions == labels\n",
    "        \n",
    "        # Increment the counters\n",
    "        predictions_count += correct.shape[0]\n",
    "        correct_count += correct.type(torch.float).sum().item()\n",
    "        \n",
    "    # Return the accuracy percentage\n",
    "    accuracy = correct_count/predictions_count\n",
    "    return accuracy"
   ]
  },
  {
   "cell_type": "markdown",
   "metadata": {},
   "source": [
    "## Baseline CNN\n",
    "\n",
    "Taken from https://pytorch.org/tutorials/beginner/blitz/cifar10_tutorial.html#training-on-gpu\n",
    "\n",
    "Note accuracy appears to make most of the gains by epoch 4 in previous testing."
   ]
  },
  {
   "cell_type": "code",
   "execution_count": 103,
   "metadata": {},
   "outputs": [
    {
     "name": "stdout",
     "output_type": "stream",
     "text": [
      "Epoch 1, loss 5633.576, time 7.763\n",
      "Epoch 2, loss 4813.185, time 15.781\n",
      "Epoch 3, loss 4483.288, time 23.595\n",
      "Epoch 4, loss 4248.014, time 31.441\n",
      "\n",
      "Accuracy:\n"
     ]
    },
    {
     "data": {
      "text/plain": [
       "0.5043"
      ]
     },
     "execution_count": 103,
     "metadata": {},
     "output_type": "execute_result"
    }
   ],
   "source": [
    "class BaseLineCNN(nn.Module):\n",
    "    def __init__(self):\n",
    "        super().__init__()\n",
    "        self.conv1 = nn.Conv2d(3, 6, 5)\n",
    "        self.pool = nn.MaxPool2d(2, 2)\n",
    "        self.conv2 = nn.Conv2d(6, 16, 5)\n",
    "        self.fc1 = nn.Linear(16 * 5 * 5, 120)\n",
    "        self.fc2 = nn.Linear(120, 84)\n",
    "        self.fc3 = nn.Linear(84, 10)\n",
    "        \n",
    "    def forward(self, x):\n",
    "        x = self.pool(F.relu(self.conv1(x)))\n",
    "        x = self.pool(F.relu(self.conv2(x)))\n",
    "        x = x.view(-1, 16 * 5 * 5) # Flatten each image to a vector\n",
    "        x = F.relu(self.fc1(x))\n",
    "        x = F.relu(self.fc2(x))\n",
    "        x = self.fc3(x)\n",
    "        return x\n",
    "    \n",
    "baseline = BaseLineCNN()\n",
    "baseline.to(device)\n",
    "criterion = nn.CrossEntropyLoss()\n",
    "train(baseline, criterion)\n",
    "\n",
    "print(\"\\nAccuracy:\")\n",
    "test(baseline)"
   ]
  },
  {
   "cell_type": "markdown",
   "metadata": {},
   "source": [
    "## Vanilla MLP"
   ]
  },
  {
   "cell_type": "code",
   "execution_count": 105,
   "metadata": {},
   "outputs": [
    {
     "name": "stdout",
     "output_type": "stream",
     "text": [
      "Epoch 1, loss 5670.843, time 8.275\n",
      "Epoch 2, loss 4828.096, time 16.888\n",
      "Epoch 3, loss 4496.578, time 25.391\n",
      "Epoch 4, loss 4268.337, time 34.045\n",
      "\n",
      "Accuracy:\n"
     ]
    },
    {
     "data": {
      "text/plain": [
       "0.4992"
      ]
     },
     "execution_count": 105,
     "metadata": {},
     "output_type": "execute_result"
    }
   ],
   "source": [
    "class VanillaMLP(nn.Module):\n",
    "    def __init__(self):\n",
    "        super().__init__()\n",
    "        self.fc1 = nn.Linear(32 * 32 * 3, 120)\n",
    "        self.fc2 = nn.Linear(120, 84)\n",
    "        self.fc3 = nn.Linear(84, 10)\n",
    "        \n",
    "    def forward(self, x):\n",
    "        x = x.view(-1, 32 * 32 * 3) # Flatten each image to a vector\n",
    "        x = F.relu(self.fc1(x))\n",
    "        x = F.relu(self.fc2(x))\n",
    "        x = self.fc3(x)\n",
    "        return x\n",
    "    \n",
    "vanilla = VanillaMLP()\n",
    "vanilla.to(device)\n",
    "criterion = nn.CrossEntropyLoss()\n",
    "train(vanilla, criterion)\n",
    "\n",
    "print(\"\\nAccuracy:\")\n",
    "test(vanilla)"
   ]
  }
 ],
 "metadata": {
  "kernelspec": {
   "display_name": "Python 3",
   "language": "python",
   "name": "python3"
  },
  "language_info": {
   "codemirror_mode": {
    "name": "ipython",
    "version": 3
   },
   "file_extension": ".py",
   "mimetype": "text/x-python",
   "name": "python",
   "nbconvert_exporter": "python",
   "pygments_lexer": "ipython3",
   "version": "3.8.5"
  }
 },
 "nbformat": 4,
 "nbformat_minor": 4
}
